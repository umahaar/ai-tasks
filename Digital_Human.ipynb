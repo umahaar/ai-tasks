{
  "nbformat": 4,
  "nbformat_minor": 0,
  "metadata": {
    "colab": {
      "provenance": [],
      "gpuType": "T4"
    },
    "kernelspec": {
      "name": "python3",
      "display_name": "Python 3"
    },
    "language_info": {
      "name": "python"
    },
    "accelerator": "GPU"
  },
  "cells": [
    {
      "cell_type": "code",
      "execution_count": null,
      "metadata": {
        "id": "ZdFEmXxTC-5w"
      },
      "outputs": [],
      "source": [
        "!pip install moviepy gTTS opencv-python numpy"
      ]
    },
    {
      "cell_type": "code",
      "source": [
        "import cv2\n",
        "import numpy as np\n",
        "from moviepy.editor import VideoFileClip, AudioFileClip, concatenate_videoclips\n",
        "from gtts import gTTS\n",
        "import os"
      ],
      "metadata": {
        "id": "ZSv-eohoDlek"
      },
      "execution_count": 4,
      "outputs": []
    },
    {
      "cell_type": "code",
      "source": [
        "def generate_audio(text, filename=\"content.wav\"):\n",
        "    tts = gTTS(text=text, lang='en')\n",
        "    tts.save(filename)\n",
        "    return filename"
      ],
      "metadata": {
        "id": "NfD3UCl5EGqH"
      },
      "execution_count": 5,
      "outputs": []
    },
    {
      "cell_type": "code",
      "source": [
        "# generate_audio(\"Hello! How are you guys doing?\")"
      ],
      "metadata": {
        "colab": {
          "base_uri": "https://localhost:8080/",
          "height": 35
        },
        "id": "YhMwafDXEMLc",
        "outputId": "919b3634-ea75-4eba-b334-686bbaa4478d"
      },
      "execution_count": 6,
      "outputs": [
        {
          "output_type": "execute_result",
          "data": {
            "text/plain": [
              "'output.mp3'"
            ],
            "application/vnd.google.colaboratory.intrinsic+json": {
              "type": "string"
            }
          },
          "metadata": {},
          "execution_count": 6
        }
      ]
    },
    {
      "cell_type": "code",
      "source": [
        "def create_video_with_audio(video_path, audio_path, output_path=\"output_video.mp4\"):\n",
        "    video_clip = VideoFileClip(video_path)\n",
        "\n",
        "    audio_clip = AudioFileClip(audio_path)\n",
        "\n",
        "    final_video = video_clip.set_audio(audio_clip)\n",
        "\n",
        "    final_video.write_videofile(output_path, codec='libx264', audio_codec='aac')"
      ],
      "metadata": {
        "id": "7-yRnDtmEtfw"
      },
      "execution_count": 7,
      "outputs": []
    },
    {
      "cell_type": "code",
      "source": [
        "def main(video_path, text):\n",
        "    audio_file = generate_audio(text)\n",
        "\n",
        "    create_video_with_audio(video_path, audio_file)\n",
        "\n",
        "    if os.path.exists(audio_file):\n",
        "        os.remove(audio_file)"
      ],
      "metadata": {
        "id": "fv-LTmE5Eu7q"
      },
      "execution_count": 8,
      "outputs": []
    },
    {
      "cell_type": "code",
      "source": [
        "video_input_path = \"input_video.mp4\"  # Path to your input video file\n",
        "text_input = \"Hello! I am speaking this text from the input.\"  # Text to be spoken\n",
        "\n",
        "main(video_input_path, text_input)"
      ],
      "metadata": {
        "colab": {
          "base_uri": "https://localhost:8080/"
        },
        "id": "vUuEq4yWE2Rf",
        "outputId": "64ecb0dd-a33f-466e-803c-064930b140e4"
      },
      "execution_count": 9,
      "outputs": [
        {
          "output_type": "stream",
          "name": "stdout",
          "text": [
            "Moviepy - Building video output_video.mp4.\n",
            "MoviePy - Writing audio in output_videoTEMP_MPY_wvf_snd.mp4\n"
          ]
        },
        {
          "output_type": "stream",
          "name": "stderr",
          "text": []
        },
        {
          "output_type": "stream",
          "name": "stdout",
          "text": [
            "MoviePy - Done.\n",
            "Moviepy - Writing video output_video.mp4\n",
            "\n"
          ]
        },
        {
          "output_type": "stream",
          "name": "stderr",
          "text": []
        },
        {
          "output_type": "stream",
          "name": "stdout",
          "text": [
            "Moviepy - Done !\n",
            "Moviepy - video ready output_video.mp4\n"
          ]
        }
      ]
    }
  ]
}