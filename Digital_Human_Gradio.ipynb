{
  "nbformat": 4,
  "nbformat_minor": 0,
  "metadata": {
    "colab": {
      "provenance": [],
      "machine_shape": "hm",
      "gpuType": "T4",
      "authorship_tag": "ABX9TyNBRO2bRUzc7Lm51owOtFDw",
      "include_colab_link": true
    },
    "kernelspec": {
      "name": "python3",
      "display_name": "Python 3"
    },
    "language_info": {
      "name": "python"
    },
    "accelerator": "GPU"
  },
  "cells": [
    {
      "cell_type": "markdown",
      "metadata": {
        "id": "view-in-github",
        "colab_type": "text"
      },
      "source": [
        "<a href=\"https://colab.research.google.com/github/umahaar/ai-tasks/blob/main/Digital_Human_Gradio.ipynb\" target=\"_parent\"><img src=\"https://colab.research.google.com/assets/colab-badge.svg\" alt=\"Open In Colab\"/></a>"
      ]
    },
    {
      "cell_type": "code",
      "execution_count": 1,
      "metadata": {
        "colab": {
          "base_uri": "https://localhost:8080/"
        },
        "id": "Mxp6BGkj-zCF",
        "outputId": "78a7f92c-af72-4d49-c52d-4c4d43ae32ea"
      },
      "outputs": [
        {
          "output_type": "stream",
          "name": "stdout",
          "text": [
            "Reading package lists... Done\n",
            "Building dependency tree... Done\n",
            "Reading state information... Done\n",
            "ffmpeg is already the newest version (7:4.4.2-0ubuntu0.22.04.1).\n",
            "0 upgraded, 0 newly installed, 0 to remove and 49 not upgraded.\n"
          ]
        }
      ],
      "source": [
        "!apt install ffmpeg\n"
      ]
    },
    {
      "cell_type": "code",
      "source": [
        "from google.colab import drive\n",
        "drive.mount('/content/drive')\n"
      ],
      "metadata": {
        "colab": {
          "base_uri": "https://localhost:8080/"
        },
        "id": "yU6_iUEjAzOw",
        "outputId": "87f04444-5d71-4b8e-a17f-56ff14fd23ed"
      },
      "execution_count": 2,
      "outputs": [
        {
          "output_type": "stream",
          "name": "stdout",
          "text": [
            "Drive already mounted at /content/drive; to attempt to forcibly remount, call drive.mount(\"/content/drive\", force_remount=True).\n"
          ]
        }
      ]
    },
    {
      "cell_type": "code",
      "source": [
        "!ls /content/drive/MyDrive\n",
        "%cd /content/drive/MyDrive/weights/\n",
        "!ls\n",
        "!cp /content/drive/MyDrive/weights/wav2lip_gan.pth /content/drive/MyDrive/weights/ai-tasks-main-umahaar/digital_human/checkpoints\n"
      ],
      "metadata": {
        "colab": {
          "base_uri": "https://localhost:8080/"
        },
        "id": "vmwOtm8nBD1B",
        "outputId": "36bd9d7e-696a-4a24-a7ac-b1a02e8ecb5d"
      },
      "execution_count": 3,
      "outputs": [
        {
          "output_type": "stream",
          "name": "stdout",
          "text": [
            "'AI ML Base Models'  'Estimates - ArtGallery WP Project - Kashif.gsheet'\n",
            "'Colab Notebooks'     weights\n",
            "/content/drive/MyDrive/weights\n",
            "ai-tasks-main\t       audio.py     converted-elon.mp4\t  converted-ted.mp4  wav2lip_gan.pth\n",
            "ai-tasks-main-umahaar  content.wav  converted-output.mp4  input_video.mp4\n"
          ]
        }
      ]
    },
    {
      "cell_type": "code",
      "source": [
        "!ls /content/drive/MyDrive\n",
        "%cd /content/drive/MyDrive/weights/\n",
        "!cp /content/drive/MyDrive/weights/converted-elon.mp4 /content/drive/MyDrive/weights/ai-tasks-main-umahaar/digital_human/\n",
        "!cp /content/drive/MyDrive/weights/content.wav /content/drive/MyDrive/weights/ai-tasks-main-umahaar/digital_human/"
      ],
      "metadata": {
        "colab": {
          "base_uri": "https://localhost:8080/"
        },
        "id": "NDfUPvwZDHAg",
        "outputId": "e09d5e01-c7a5-4fcc-8e0f-24b0216017b5"
      },
      "execution_count": 4,
      "outputs": [
        {
          "output_type": "stream",
          "name": "stdout",
          "text": [
            "'AI ML Base Models'  'Estimates - ArtGallery WP Project - Kashif.gsheet'\n",
            "'Colab Notebooks'     weights\n",
            "/content/drive/MyDrive/weights\n"
          ]
        }
      ]
    },
    {
      "cell_type": "code",
      "source": [
        "%cd ai-tasks-main/digital_human/\n",
        "!pip install -r requirements.txt"
      ],
      "metadata": {
        "colab": {
          "base_uri": "https://localhost:8080/"
        },
        "id": "lyBY--qHDbWC",
        "outputId": "52efe478-9976-4d03-f52e-7d937c750eb6"
      },
      "execution_count": 5,
      "outputs": [
        {
          "output_type": "stream",
          "name": "stdout",
          "text": [
            "/content/drive/MyDrive/weights/ai-tasks-main/digital_human\n",
            "Requirement already satisfied: audioread==3.0.1 in /usr/local/lib/python3.10/dist-packages (from -r requirements.txt (line 1)) (3.0.1)\n",
            "Requirement already satisfied: certifi==2024.12.14 in /usr/local/lib/python3.10/dist-packages (from -r requirements.txt (line 2)) (2024.12.14)\n",
            "Requirement already satisfied: cffi==1.17.1 in /usr/local/lib/python3.10/dist-packages (from -r requirements.txt (line 3)) (1.17.1)\n",
            "Requirement already satisfied: charset-normalizer==3.4.1 in /usr/local/lib/python3.10/dist-packages (from -r requirements.txt (line 4)) (3.4.1)\n",
            "Requirement already satisfied: click==8.1.8 in /usr/local/lib/python3.10/dist-packages (from -r requirements.txt (line 5)) (8.1.8)\n",
            "Requirement already satisfied: decorator==5.1.1 in /usr/local/lib/python3.10/dist-packages (from -r requirements.txt (line 6)) (5.1.1)\n",
            "Requirement already satisfied: filelock==3.16.1 in /usr/local/lib/python3.10/dist-packages (from -r requirements.txt (line 7)) (3.16.1)\n",
            "Requirement already satisfied: fsspec==2024.12.0 in /usr/local/lib/python3.10/dist-packages (from -r requirements.txt (line 8)) (2024.12.0)\n",
            "Requirement already satisfied: gTTS==2.5.4 in /usr/local/lib/python3.10/dist-packages (from -r requirements.txt (line 9)) (2.5.4)\n",
            "Requirement already satisfied: idna==3.10 in /usr/local/lib/python3.10/dist-packages (from -r requirements.txt (line 10)) (3.10)\n",
            "Requirement already satisfied: imageio==2.36.1 in /usr/local/lib/python3.10/dist-packages (from -r requirements.txt (line 11)) (2.36.1)\n",
            "Requirement already satisfied: imageio-ffmpeg==0.5.1 in /usr/local/lib/python3.10/dist-packages (from -r requirements.txt (line 12)) (0.5.1)\n",
            "Requirement already satisfied: Jinja2==3.1.5 in /usr/local/lib/python3.10/dist-packages (from -r requirements.txt (line 13)) (3.1.5)\n",
            "Requirement already satisfied: joblib==1.4.2 in /usr/local/lib/python3.10/dist-packages (from -r requirements.txt (line 14)) (1.4.2)\n",
            "Requirement already satisfied: lazy_loader==0.4 in /usr/local/lib/python3.10/dist-packages (from -r requirements.txt (line 15)) (0.4)\n",
            "Requirement already satisfied: librosa==0.10.2.post1 in /usr/local/lib/python3.10/dist-packages (from -r requirements.txt (line 16)) (0.10.2.post1)\n",
            "Requirement already satisfied: llvmlite==0.43.0 in /usr/local/lib/python3.10/dist-packages (from -r requirements.txt (line 17)) (0.43.0)\n",
            "Requirement already satisfied: MarkupSafe==3.0.2 in /usr/local/lib/python3.10/dist-packages (from -r requirements.txt (line 18)) (3.0.2)\n",
            "Requirement already satisfied: moviepy==2.1.1 in /usr/local/lib/python3.10/dist-packages (from -r requirements.txt (line 19)) (2.1.1)\n",
            "Requirement already satisfied: mpmath==1.3.0 in /usr/local/lib/python3.10/dist-packages (from -r requirements.txt (line 20)) (1.3.0)\n",
            "Requirement already satisfied: msgpack==1.1.0 in /usr/local/lib/python3.10/dist-packages (from -r requirements.txt (line 21)) (1.1.0)\n",
            "Requirement already satisfied: networkx==3.2.1 in /usr/local/lib/python3.10/dist-packages (from -r requirements.txt (line 22)) (3.2.1)\n",
            "Requirement already satisfied: numba==0.60.0 in /usr/local/lib/python3.10/dist-packages (from -r requirements.txt (line 23)) (0.60.0)\n",
            "Requirement already satisfied: numpy==2.0.2 in /usr/local/lib/python3.10/dist-packages (from -r requirements.txt (line 24)) (2.0.2)\n",
            "Requirement already satisfied: opencv-contrib-python==4.10.0.84 in /usr/local/lib/python3.10/dist-packages (from -r requirements.txt (line 25)) (4.10.0.84)\n",
            "Requirement already satisfied: opencv-python==4.10.0.84 in /usr/local/lib/python3.10/dist-packages (from -r requirements.txt (line 26)) (4.10.0.84)\n",
            "Requirement already satisfied: packaging==24.2 in /usr/local/lib/python3.10/dist-packages (from -r requirements.txt (line 27)) (24.2)\n",
            "Requirement already satisfied: pillow==10.4.0 in /usr/local/lib/python3.10/dist-packages (from -r requirements.txt (line 28)) (10.4.0)\n",
            "Requirement already satisfied: platformdirs==4.3.6 in /usr/local/lib/python3.10/dist-packages (from -r requirements.txt (line 29)) (4.3.6)\n",
            "Requirement already satisfied: pooch==1.8.2 in /usr/local/lib/python3.10/dist-packages (from -r requirements.txt (line 30)) (1.8.2)\n",
            "Requirement already satisfied: proglog==0.1.10 in /usr/local/lib/python3.10/dist-packages (from -r requirements.txt (line 31)) (0.1.10)\n",
            "Requirement already satisfied: pycparser==2.22 in /usr/local/lib/python3.10/dist-packages (from -r requirements.txt (line 32)) (2.22)\n",
            "Requirement already satisfied: python-dotenv==1.0.1 in /usr/local/lib/python3.10/dist-packages (from -r requirements.txt (line 33)) (1.0.1)\n",
            "Requirement already satisfied: requests==2.32.3 in /usr/local/lib/python3.10/dist-packages (from -r requirements.txt (line 34)) (2.32.3)\n",
            "Requirement already satisfied: scikit-learn==1.6.0 in /usr/local/lib/python3.10/dist-packages (from -r requirements.txt (line 35)) (1.6.0)\n",
            "Requirement already satisfied: scipy==1.13.1 in /usr/local/lib/python3.10/dist-packages (from -r requirements.txt (line 36)) (1.13.1)\n",
            "Requirement already satisfied: soundfile==0.13.0 in /usr/local/lib/python3.10/dist-packages (from -r requirements.txt (line 37)) (0.13.0)\n",
            "Requirement already satisfied: soxr==0.5.0.post1 in /usr/local/lib/python3.10/dist-packages (from -r requirements.txt (line 38)) (0.5.0.post1)\n",
            "Requirement already satisfied: sympy==1.13.1 in /usr/local/lib/python3.10/dist-packages (from -r requirements.txt (line 39)) (1.13.1)\n",
            "Requirement already satisfied: threadpoolctl==3.5.0 in /usr/local/lib/python3.10/dist-packages (from -r requirements.txt (line 40)) (3.5.0)\n",
            "Requirement already satisfied: torch==2.5.1 in /usr/local/lib/python3.10/dist-packages (from -r requirements.txt (line 41)) (2.5.1+cu121)\n",
            "Requirement already satisfied: torchvision==0.20.1 in /usr/local/lib/python3.10/dist-packages (from -r requirements.txt (line 42)) (0.20.1+cu121)\n",
            "Requirement already satisfied: tqdm==4.67.1 in /usr/local/lib/python3.10/dist-packages (from -r requirements.txt (line 43)) (4.67.1)\n",
            "Requirement already satisfied: typing_extensions==4.12.2 in /usr/local/lib/python3.10/dist-packages (from -r requirements.txt (line 44)) (4.12.2)\n",
            "Requirement already satisfied: urllib3==2.3.0 in /usr/local/lib/python3.10/dist-packages (from -r requirements.txt (line 45)) (2.3.0)\n",
            "Requirement already satisfied: setuptools in /usr/local/lib/python3.10/dist-packages (from imageio-ffmpeg==0.5.1->-r requirements.txt (line 12)) (75.1.0)\n"
          ]
        }
      ]
    },
    {
      "cell_type": "code",
      "source": [
        "!pip install gradio"
      ],
      "metadata": {
        "colab": {
          "base_uri": "https://localhost:8080/"
        },
        "id": "NX2ZEfG0Dop2",
        "outputId": "82aeb8f1-6a2f-4874-a460-4d659ab5e28a"
      },
      "execution_count": 7,
      "outputs": [
        {
          "output_type": "stream",
          "name": "stdout",
          "text": [
            "Requirement already satisfied: gradio in /usr/local/lib/python3.10/dist-packages (5.11.0)\n",
            "Requirement already satisfied: aiofiles<24.0,>=22.0 in /usr/local/lib/python3.10/dist-packages (from gradio) (23.2.1)\n",
            "Requirement already satisfied: anyio<5.0,>=3.0 in /usr/local/lib/python3.10/dist-packages (from gradio) (3.7.1)\n",
            "Requirement already satisfied: fastapi<1.0,>=0.115.2 in /usr/local/lib/python3.10/dist-packages (from gradio) (0.115.6)\n",
            "Requirement already satisfied: ffmpy in /usr/local/lib/python3.10/dist-packages (from gradio) (0.5.0)\n",
            "Requirement already satisfied: gradio-client==1.5.3 in /usr/local/lib/python3.10/dist-packages (from gradio) (1.5.3)\n",
            "Requirement already satisfied: httpx>=0.24.1 in /usr/local/lib/python3.10/dist-packages (from gradio) (0.28.1)\n",
            "Requirement already satisfied: huggingface-hub>=0.25.1 in /usr/local/lib/python3.10/dist-packages (from gradio) (0.27.1)\n",
            "Requirement already satisfied: jinja2<4.0 in /usr/local/lib/python3.10/dist-packages (from gradio) (3.1.5)\n",
            "Requirement already satisfied: markupsafe~=2.0 in /usr/local/lib/python3.10/dist-packages (from gradio) (2.1.5)\n",
            "Requirement already satisfied: numpy<3.0,>=1.0 in /usr/local/lib/python3.10/dist-packages (from gradio) (2.0.2)\n",
            "Requirement already satisfied: orjson~=3.0 in /usr/local/lib/python3.10/dist-packages (from gradio) (3.10.13)\n",
            "Requirement already satisfied: packaging in /usr/local/lib/python3.10/dist-packages (from gradio) (24.2)\n",
            "Requirement already satisfied: pandas<3.0,>=1.0 in /usr/local/lib/python3.10/dist-packages (from gradio) (2.2.2)\n",
            "Requirement already satisfied: pillow<12.0,>=8.0 in /usr/local/lib/python3.10/dist-packages (from gradio) (10.4.0)\n",
            "Requirement already satisfied: pydantic>=2.0 in /usr/local/lib/python3.10/dist-packages (from gradio) (2.10.4)\n",
            "Requirement already satisfied: pydub in /usr/local/lib/python3.10/dist-packages (from gradio) (0.25.1)\n",
            "Requirement already satisfied: python-multipart>=0.0.18 in /usr/local/lib/python3.10/dist-packages (from gradio) (0.0.20)\n",
            "Requirement already satisfied: pyyaml<7.0,>=5.0 in /usr/local/lib/python3.10/dist-packages (from gradio) (6.0.2)\n",
            "Requirement already satisfied: ruff>=0.2.2 in /usr/local/lib/python3.10/dist-packages (from gradio) (0.8.6)\n",
            "Requirement already satisfied: safehttpx<0.2.0,>=0.1.6 in /usr/local/lib/python3.10/dist-packages (from gradio) (0.1.6)\n",
            "Requirement already satisfied: semantic-version~=2.0 in /usr/local/lib/python3.10/dist-packages (from gradio) (2.10.0)\n",
            "Requirement already satisfied: starlette<1.0,>=0.40.0 in /usr/local/lib/python3.10/dist-packages (from gradio) (0.41.3)\n",
            "Requirement already satisfied: tomlkit<0.14.0,>=0.12.0 in /usr/local/lib/python3.10/dist-packages (from gradio) (0.13.2)\n",
            "Requirement already satisfied: typer<1.0,>=0.12 in /usr/local/lib/python3.10/dist-packages (from gradio) (0.15.1)\n",
            "Requirement already satisfied: typing-extensions~=4.0 in /usr/local/lib/python3.10/dist-packages (from gradio) (4.12.2)\n",
            "Requirement already satisfied: uvicorn>=0.14.0 in /usr/local/lib/python3.10/dist-packages (from gradio) (0.34.0)\n",
            "Requirement already satisfied: fsspec in /usr/local/lib/python3.10/dist-packages (from gradio-client==1.5.3->gradio) (2024.12.0)\n",
            "Requirement already satisfied: websockets<15.0,>=10.0 in /usr/local/lib/python3.10/dist-packages (from gradio-client==1.5.3->gradio) (14.1)\n",
            "Requirement already satisfied: idna>=2.8 in /usr/local/lib/python3.10/dist-packages (from anyio<5.0,>=3.0->gradio) (3.10)\n",
            "Requirement already satisfied: sniffio>=1.1 in /usr/local/lib/python3.10/dist-packages (from anyio<5.0,>=3.0->gradio) (1.3.1)\n",
            "Requirement already satisfied: exceptiongroup in /usr/local/lib/python3.10/dist-packages (from anyio<5.0,>=3.0->gradio) (1.2.2)\n",
            "Requirement already satisfied: certifi in /usr/local/lib/python3.10/dist-packages (from httpx>=0.24.1->gradio) (2024.12.14)\n",
            "Requirement already satisfied: httpcore==1.* in /usr/local/lib/python3.10/dist-packages (from httpx>=0.24.1->gradio) (1.0.7)\n",
            "Requirement already satisfied: h11<0.15,>=0.13 in /usr/local/lib/python3.10/dist-packages (from httpcore==1.*->httpx>=0.24.1->gradio) (0.14.0)\n",
            "Requirement already satisfied: filelock in /usr/local/lib/python3.10/dist-packages (from huggingface-hub>=0.25.1->gradio) (3.16.1)\n",
            "Requirement already satisfied: requests in /usr/local/lib/python3.10/dist-packages (from huggingface-hub>=0.25.1->gradio) (2.32.3)\n",
            "Requirement already satisfied: tqdm>=4.42.1 in /usr/local/lib/python3.10/dist-packages (from huggingface-hub>=0.25.1->gradio) (4.67.1)\n",
            "Requirement already satisfied: python-dateutil>=2.8.2 in /usr/local/lib/python3.10/dist-packages (from pandas<3.0,>=1.0->gradio) (2.8.2)\n",
            "Requirement already satisfied: pytz>=2020.1 in /usr/local/lib/python3.10/dist-packages (from pandas<3.0,>=1.0->gradio) (2024.2)\n",
            "Requirement already satisfied: tzdata>=2022.7 in /usr/local/lib/python3.10/dist-packages (from pandas<3.0,>=1.0->gradio) (2024.2)\n",
            "Requirement already satisfied: annotated-types>=0.6.0 in /usr/local/lib/python3.10/dist-packages (from pydantic>=2.0->gradio) (0.7.0)\n",
            "Requirement already satisfied: pydantic-core==2.27.2 in /usr/local/lib/python3.10/dist-packages (from pydantic>=2.0->gradio) (2.27.2)\n",
            "Requirement already satisfied: click>=8.0.0 in /usr/local/lib/python3.10/dist-packages (from typer<1.0,>=0.12->gradio) (8.1.8)\n",
            "Requirement already satisfied: shellingham>=1.3.0 in /usr/local/lib/python3.10/dist-packages (from typer<1.0,>=0.12->gradio) (1.5.4)\n",
            "Requirement already satisfied: rich>=10.11.0 in /usr/local/lib/python3.10/dist-packages (from typer<1.0,>=0.12->gradio) (13.9.4)\n",
            "Requirement already satisfied: six>=1.5 in /usr/local/lib/python3.10/dist-packages (from python-dateutil>=2.8.2->pandas<3.0,>=1.0->gradio) (1.17.0)\n",
            "Requirement already satisfied: markdown-it-py>=2.2.0 in /usr/local/lib/python3.10/dist-packages (from rich>=10.11.0->typer<1.0,>=0.12->gradio) (3.0.0)\n",
            "Requirement already satisfied: pygments<3.0.0,>=2.13.0 in /usr/local/lib/python3.10/dist-packages (from rich>=10.11.0->typer<1.0,>=0.12->gradio) (2.18.0)\n",
            "Requirement already satisfied: charset-normalizer<4,>=2 in /usr/local/lib/python3.10/dist-packages (from requests->huggingface-hub>=0.25.1->gradio) (3.4.1)\n",
            "Requirement already satisfied: urllib3<3,>=1.21.1 in /usr/local/lib/python3.10/dist-packages (from requests->huggingface-hub>=0.25.1->gradio) (2.3.0)\n",
            "Requirement already satisfied: mdurl~=0.1 in /usr/local/lib/python3.10/dist-packages (from markdown-it-py>=2.2.0->rich>=10.11.0->typer<1.0,>=0.12->gradio) (0.1.2)\n"
          ]
        }
      ]
    },
    {
      "cell_type": "code",
      "source": [
        "!pip install -r /content/drive/MyDrive/weights/ai-tasks-main/digital_human/requirements.txt"
      ],
      "metadata": {
        "colab": {
          "base_uri": "https://localhost:8080/"
        },
        "id": "Q0dhGqUhDxdJ",
        "outputId": "009ee4d7-d00f-4411-b975-1132c24c31a8"
      },
      "execution_count": 9,
      "outputs": [
        {
          "output_type": "stream",
          "name": "stdout",
          "text": [
            "Requirement already satisfied: audioread==3.0.1 in /usr/local/lib/python3.10/dist-packages (from -r /content/drive/MyDrive/weights/ai-tasks-main/digital_human/requirements.txt (line 1)) (3.0.1)\n",
            "Requirement already satisfied: certifi==2024.12.14 in /usr/local/lib/python3.10/dist-packages (from -r /content/drive/MyDrive/weights/ai-tasks-main/digital_human/requirements.txt (line 2)) (2024.12.14)\n",
            "Requirement already satisfied: cffi==1.17.1 in /usr/local/lib/python3.10/dist-packages (from -r /content/drive/MyDrive/weights/ai-tasks-main/digital_human/requirements.txt (line 3)) (1.17.1)\n",
            "Requirement already satisfied: charset-normalizer==3.4.1 in /usr/local/lib/python3.10/dist-packages (from -r /content/drive/MyDrive/weights/ai-tasks-main/digital_human/requirements.txt (line 4)) (3.4.1)\n",
            "Requirement already satisfied: click==8.1.8 in /usr/local/lib/python3.10/dist-packages (from -r /content/drive/MyDrive/weights/ai-tasks-main/digital_human/requirements.txt (line 5)) (8.1.8)\n",
            "Requirement already satisfied: decorator==5.1.1 in /usr/local/lib/python3.10/dist-packages (from -r /content/drive/MyDrive/weights/ai-tasks-main/digital_human/requirements.txt (line 6)) (5.1.1)\n",
            "Requirement already satisfied: filelock==3.16.1 in /usr/local/lib/python3.10/dist-packages (from -r /content/drive/MyDrive/weights/ai-tasks-main/digital_human/requirements.txt (line 7)) (3.16.1)\n",
            "Requirement already satisfied: fsspec==2024.12.0 in /usr/local/lib/python3.10/dist-packages (from -r /content/drive/MyDrive/weights/ai-tasks-main/digital_human/requirements.txt (line 8)) (2024.12.0)\n",
            "Requirement already satisfied: gTTS==2.5.4 in /usr/local/lib/python3.10/dist-packages (from -r /content/drive/MyDrive/weights/ai-tasks-main/digital_human/requirements.txt (line 9)) (2.5.4)\n",
            "Requirement already satisfied: idna==3.10 in /usr/local/lib/python3.10/dist-packages (from -r /content/drive/MyDrive/weights/ai-tasks-main/digital_human/requirements.txt (line 10)) (3.10)\n",
            "Requirement already satisfied: imageio==2.36.1 in /usr/local/lib/python3.10/dist-packages (from -r /content/drive/MyDrive/weights/ai-tasks-main/digital_human/requirements.txt (line 11)) (2.36.1)\n",
            "Requirement already satisfied: imageio-ffmpeg==0.5.1 in /usr/local/lib/python3.10/dist-packages (from -r /content/drive/MyDrive/weights/ai-tasks-main/digital_human/requirements.txt (line 12)) (0.5.1)\n",
            "Requirement already satisfied: Jinja2==3.1.5 in /usr/local/lib/python3.10/dist-packages (from -r /content/drive/MyDrive/weights/ai-tasks-main/digital_human/requirements.txt (line 13)) (3.1.5)\n",
            "Requirement already satisfied: joblib==1.4.2 in /usr/local/lib/python3.10/dist-packages (from -r /content/drive/MyDrive/weights/ai-tasks-main/digital_human/requirements.txt (line 14)) (1.4.2)\n",
            "Requirement already satisfied: lazy_loader==0.4 in /usr/local/lib/python3.10/dist-packages (from -r /content/drive/MyDrive/weights/ai-tasks-main/digital_human/requirements.txt (line 15)) (0.4)\n",
            "Requirement already satisfied: librosa==0.10.2.post1 in /usr/local/lib/python3.10/dist-packages (from -r /content/drive/MyDrive/weights/ai-tasks-main/digital_human/requirements.txt (line 16)) (0.10.2.post1)\n",
            "Requirement already satisfied: llvmlite==0.43.0 in /usr/local/lib/python3.10/dist-packages (from -r /content/drive/MyDrive/weights/ai-tasks-main/digital_human/requirements.txt (line 17)) (0.43.0)\n",
            "Requirement already satisfied: MarkupSafe==3.0.2 in /usr/local/lib/python3.10/dist-packages (from -r /content/drive/MyDrive/weights/ai-tasks-main/digital_human/requirements.txt (line 18)) (3.0.2)\n",
            "Requirement already satisfied: moviepy==2.1.1 in /usr/local/lib/python3.10/dist-packages (from -r /content/drive/MyDrive/weights/ai-tasks-main/digital_human/requirements.txt (line 19)) (2.1.1)\n",
            "Requirement already satisfied: mpmath==1.3.0 in /usr/local/lib/python3.10/dist-packages (from -r /content/drive/MyDrive/weights/ai-tasks-main/digital_human/requirements.txt (line 20)) (1.3.0)\n",
            "Requirement already satisfied: msgpack==1.1.0 in /usr/local/lib/python3.10/dist-packages (from -r /content/drive/MyDrive/weights/ai-tasks-main/digital_human/requirements.txt (line 21)) (1.1.0)\n",
            "Requirement already satisfied: networkx==3.2.1 in /usr/local/lib/python3.10/dist-packages (from -r /content/drive/MyDrive/weights/ai-tasks-main/digital_human/requirements.txt (line 22)) (3.2.1)\n",
            "Requirement already satisfied: numba==0.60.0 in /usr/local/lib/python3.10/dist-packages (from -r /content/drive/MyDrive/weights/ai-tasks-main/digital_human/requirements.txt (line 23)) (0.60.0)\n",
            "Requirement already satisfied: numpy==2.0.2 in /usr/local/lib/python3.10/dist-packages (from -r /content/drive/MyDrive/weights/ai-tasks-main/digital_human/requirements.txt (line 24)) (2.0.2)\n",
            "Requirement already satisfied: opencv-contrib-python==4.10.0.84 in /usr/local/lib/python3.10/dist-packages (from -r /content/drive/MyDrive/weights/ai-tasks-main/digital_human/requirements.txt (line 25)) (4.10.0.84)\n",
            "Requirement already satisfied: opencv-python==4.10.0.84 in /usr/local/lib/python3.10/dist-packages (from -r /content/drive/MyDrive/weights/ai-tasks-main/digital_human/requirements.txt (line 26)) (4.10.0.84)\n",
            "Requirement already satisfied: packaging==24.2 in /usr/local/lib/python3.10/dist-packages (from -r /content/drive/MyDrive/weights/ai-tasks-main/digital_human/requirements.txt (line 27)) (24.2)\n",
            "Requirement already satisfied: pillow==10.4.0 in /usr/local/lib/python3.10/dist-packages (from -r /content/drive/MyDrive/weights/ai-tasks-main/digital_human/requirements.txt (line 28)) (10.4.0)\n",
            "Requirement already satisfied: platformdirs==4.3.6 in /usr/local/lib/python3.10/dist-packages (from -r /content/drive/MyDrive/weights/ai-tasks-main/digital_human/requirements.txt (line 29)) (4.3.6)\n",
            "Requirement already satisfied: pooch==1.8.2 in /usr/local/lib/python3.10/dist-packages (from -r /content/drive/MyDrive/weights/ai-tasks-main/digital_human/requirements.txt (line 30)) (1.8.2)\n",
            "Requirement already satisfied: proglog==0.1.10 in /usr/local/lib/python3.10/dist-packages (from -r /content/drive/MyDrive/weights/ai-tasks-main/digital_human/requirements.txt (line 31)) (0.1.10)\n",
            "Requirement already satisfied: pycparser==2.22 in /usr/local/lib/python3.10/dist-packages (from -r /content/drive/MyDrive/weights/ai-tasks-main/digital_human/requirements.txt (line 32)) (2.22)\n",
            "Requirement already satisfied: python-dotenv==1.0.1 in /usr/local/lib/python3.10/dist-packages (from -r /content/drive/MyDrive/weights/ai-tasks-main/digital_human/requirements.txt (line 33)) (1.0.1)\n",
            "Requirement already satisfied: requests==2.32.3 in /usr/local/lib/python3.10/dist-packages (from -r /content/drive/MyDrive/weights/ai-tasks-main/digital_human/requirements.txt (line 34)) (2.32.3)\n",
            "Requirement already satisfied: scikit-learn==1.6.0 in /usr/local/lib/python3.10/dist-packages (from -r /content/drive/MyDrive/weights/ai-tasks-main/digital_human/requirements.txt (line 35)) (1.6.0)\n",
            "Requirement already satisfied: scipy==1.13.1 in /usr/local/lib/python3.10/dist-packages (from -r /content/drive/MyDrive/weights/ai-tasks-main/digital_human/requirements.txt (line 36)) (1.13.1)\n",
            "Requirement already satisfied: soundfile==0.13.0 in /usr/local/lib/python3.10/dist-packages (from -r /content/drive/MyDrive/weights/ai-tasks-main/digital_human/requirements.txt (line 37)) (0.13.0)\n",
            "Requirement already satisfied: soxr==0.5.0.post1 in /usr/local/lib/python3.10/dist-packages (from -r /content/drive/MyDrive/weights/ai-tasks-main/digital_human/requirements.txt (line 38)) (0.5.0.post1)\n",
            "Requirement already satisfied: sympy==1.13.1 in /usr/local/lib/python3.10/dist-packages (from -r /content/drive/MyDrive/weights/ai-tasks-main/digital_human/requirements.txt (line 39)) (1.13.1)\n",
            "Requirement already satisfied: threadpoolctl==3.5.0 in /usr/local/lib/python3.10/dist-packages (from -r /content/drive/MyDrive/weights/ai-tasks-main/digital_human/requirements.txt (line 40)) (3.5.0)\n",
            "Requirement already satisfied: torch==2.5.1 in /usr/local/lib/python3.10/dist-packages (from -r /content/drive/MyDrive/weights/ai-tasks-main/digital_human/requirements.txt (line 41)) (2.5.1+cu121)\n",
            "Requirement already satisfied: torchvision==0.20.1 in /usr/local/lib/python3.10/dist-packages (from -r /content/drive/MyDrive/weights/ai-tasks-main/digital_human/requirements.txt (line 42)) (0.20.1+cu121)\n",
            "Requirement already satisfied: tqdm==4.67.1 in /usr/local/lib/python3.10/dist-packages (from -r /content/drive/MyDrive/weights/ai-tasks-main/digital_human/requirements.txt (line 43)) (4.67.1)\n",
            "Requirement already satisfied: typing_extensions==4.12.2 in /usr/local/lib/python3.10/dist-packages (from -r /content/drive/MyDrive/weights/ai-tasks-main/digital_human/requirements.txt (line 44)) (4.12.2)\n",
            "Requirement already satisfied: urllib3==2.3.0 in /usr/local/lib/python3.10/dist-packages (from -r /content/drive/MyDrive/weights/ai-tasks-main/digital_human/requirements.txt (line 45)) (2.3.0)\n",
            "Requirement already satisfied: setuptools in /usr/local/lib/python3.10/dist-packages (from imageio-ffmpeg==0.5.1->-r /content/drive/MyDrive/weights/ai-tasks-main/digital_human/requirements.txt (line 12)) (75.1.0)\n"
          ]
        }
      ]
    },
    {
      "cell_type": "code",
      "source": [
        "%cd /content/drive/MyDrive/weights/ai-tasks-main/digital_human"
      ],
      "metadata": {
        "colab": {
          "base_uri": "https://localhost:8080/"
        },
        "id": "d2C8JrJvEDOd",
        "outputId": "a2e6b89b-e651-4f93-b544-a292a6cfa458"
      },
      "execution_count": 10,
      "outputs": [
        {
          "output_type": "stream",
          "name": "stdout",
          "text": [
            "/content/drive/MyDrive/weights/ai-tasks-main/digital_human\n"
          ]
        }
      ]
    },
    {
      "cell_type": "code",
      "source": [
        "!python3 digital_human.py"
      ],
      "metadata": {
        "colab": {
          "base_uri": "https://localhost:8080/"
        },
        "id": "6c6_ZLqbEbuA",
        "outputId": "3a135209-ae47-4249-8785-8c7b33879f5e"
      },
      "execution_count": 11,
      "outputs": [
        {
          "output_type": "stream",
          "name": "stdout",
          "text": [
            "Audio file saved as: output.wav\n",
            "Using cuda for inference.\n",
            "Lip-synced video saved as: output_video.mp4\n",
            "Output video saved as: output_video.mp4\n"
          ]
        }
      ]
    }
  ]
}