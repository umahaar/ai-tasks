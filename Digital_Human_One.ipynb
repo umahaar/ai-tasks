{
  "nbformat": 4,
  "nbformat_minor": 0,
  "metadata": {
    "colab": {
      "provenance": [],
      "machine_shape": "hm",
      "gpuType": "A100",
      "authorship_tag": "ABX9TyPjc094lyu2jYoWWwujvmi/",
      "include_colab_link": true
    },
    "kernelspec": {
      "name": "python3",
      "display_name": "Python 3"
    },
    "language_info": {
      "name": "python"
    },
    "accelerator": "GPU"
  },
  "cells": [
    {
      "cell_type": "markdown",
      "metadata": {
        "id": "view-in-github",
        "colab_type": "text"
      },
      "source": [
        "<a href=\"https://colab.research.google.com/github/umahaar/ai-tasks/blob/main/Digital_Human_One.ipynb\" target=\"_parent\"><img src=\"https://colab.research.google.com/assets/colab-badge.svg\" alt=\"Open In Colab\"/></a>"
      ]
    },
    {
      "cell_type": "code",
      "execution_count": null,
      "metadata": {
        "colab": {
          "base_uri": "https://localhost:8080/",
          "height": 1000
        },
        "id": "TqJvnlx0AAyu",
        "outputId": "007aabb1-3582-42d3-961f-206da65bb557",
        "collapsed": true
      },
      "outputs": [
        {
          "output_type": "stream",
          "name": "stdout",
          "text": [
            "Cloning into 'ai-tasks'...\n",
            "remote: Enumerating objects: 76, done.\u001b[K\n",
            "remote: Counting objects: 100% (76/76), done.\u001b[K\n",
            "remote: Compressing objects: 100% (62/62), done.\u001b[K\n",
            "remote: Total 76 (delta 8), reused 69 (delta 6), pack-reused 0 (from 0)\u001b[K\n",
            "Receiving objects: 100% (76/76), 56.52 KiB | 2.17 MiB/s, done.\n",
            "Resolving deltas: 100% (8/8), done.\n",
            "/content/ai-tasks/digital_human\n",
            "Requirement already satisfied: audioread==3.0.1 in /usr/local/lib/python3.10/dist-packages (from -r requirements.txt (line 1)) (3.0.1)\n",
            "Requirement already satisfied: certifi==2024.12.14 in /usr/local/lib/python3.10/dist-packages (from -r requirements.txt (line 2)) (2024.12.14)\n",
            "Requirement already satisfied: cffi==1.17.1 in /usr/local/lib/python3.10/dist-packages (from -r requirements.txt (line 3)) (1.17.1)\n",
            "Collecting charset-normalizer==3.4.1 (from -r requirements.txt (line 4))\n",
            "  Downloading charset_normalizer-3.4.1-cp310-cp310-manylinux_2_17_x86_64.manylinux2014_x86_64.whl.metadata (35 kB)\n",
            "Collecting click==8.1.8 (from -r requirements.txt (line 5))\n",
            "  Downloading click-8.1.8-py3-none-any.whl.metadata (2.3 kB)\n",
            "Collecting decorator==5.1.1 (from -r requirements.txt (line 6))\n",
            "  Downloading decorator-5.1.1-py3-none-any.whl.metadata (4.0 kB)\n",
            "Requirement already satisfied: filelock==3.16.1 in /usr/local/lib/python3.10/dist-packages (from -r requirements.txt (line 7)) (3.16.1)\n",
            "Collecting fsspec==2024.12.0 (from -r requirements.txt (line 8))\n",
            "  Downloading fsspec-2024.12.0-py3-none-any.whl.metadata (11 kB)\n",
            "Collecting gTTS==2.5.4 (from -r requirements.txt (line 9))\n",
            "  Downloading gTTS-2.5.4-py3-none-any.whl.metadata (4.1 kB)\n",
            "Requirement already satisfied: idna==3.10 in /usr/local/lib/python3.10/dist-packages (from -r requirements.txt (line 10)) (3.10)\n",
            "Requirement already satisfied: imageio==2.36.1 in /usr/local/lib/python3.10/dist-packages (from -r requirements.txt (line 11)) (2.36.1)\n",
            "Requirement already satisfied: imageio-ffmpeg==0.5.1 in /usr/local/lib/python3.10/dist-packages (from -r requirements.txt (line 12)) (0.5.1)\n",
            "Collecting Jinja2==3.1.5 (from -r requirements.txt (line 13))\n",
            "  Downloading jinja2-3.1.5-py3-none-any.whl.metadata (2.6 kB)\n",
            "Requirement already satisfied: joblib==1.4.2 in /usr/local/lib/python3.10/dist-packages (from -r requirements.txt (line 14)) (1.4.2)\n",
            "Requirement already satisfied: lazy_loader==0.4 in /usr/local/lib/python3.10/dist-packages (from -r requirements.txt (line 15)) (0.4)\n",
            "Requirement already satisfied: librosa==0.10.2.post1 in /usr/local/lib/python3.10/dist-packages (from -r requirements.txt (line 16)) (0.10.2.post1)\n",
            "Requirement already satisfied: llvmlite==0.43.0 in /usr/local/lib/python3.10/dist-packages (from -r requirements.txt (line 17)) (0.43.0)\n",
            "Requirement already satisfied: MarkupSafe==3.0.2 in /usr/local/lib/python3.10/dist-packages (from -r requirements.txt (line 18)) (3.0.2)\n",
            "Collecting moviepy==2.1.1 (from -r requirements.txt (line 19))\n",
            "  Downloading moviepy-2.1.1-py3-none-any.whl.metadata (6.9 kB)\n",
            "Requirement already satisfied: mpmath==1.3.0 in /usr/local/lib/python3.10/dist-packages (from -r requirements.txt (line 20)) (1.3.0)\n",
            "Requirement already satisfied: msgpack==1.1.0 in /usr/local/lib/python3.10/dist-packages (from -r requirements.txt (line 21)) (1.1.0)\n",
            "Collecting networkx==3.2.1 (from -r requirements.txt (line 22))\n",
            "  Downloading networkx-3.2.1-py3-none-any.whl.metadata (5.2 kB)\n",
            "Requirement already satisfied: numba==0.60.0 in /usr/local/lib/python3.10/dist-packages (from -r requirements.txt (line 23)) (0.60.0)\n",
            "Collecting numpy==2.0.2 (from -r requirements.txt (line 24))\n",
            "  Downloading numpy-2.0.2-cp310-cp310-manylinux_2_17_x86_64.manylinux2014_x86_64.whl.metadata (60 kB)\n",
            "\u001b[2K     \u001b[90m━━━━━━━━━━━━━━━━━━━━━━━━━━━━━━━━━━━━━━━━\u001b[0m \u001b[32m60.9/60.9 kB\u001b[0m \u001b[31m6.5 MB/s\u001b[0m eta \u001b[36m0:00:00\u001b[0m\n",
            "\u001b[?25hRequirement already satisfied: opencv-contrib-python==4.10.0.84 in /usr/local/lib/python3.10/dist-packages (from -r requirements.txt (line 25)) (4.10.0.84)\n",
            "Requirement already satisfied: opencv-python==4.10.0.84 in /usr/local/lib/python3.10/dist-packages (from -r requirements.txt (line 26)) (4.10.0.84)\n",
            "Requirement already satisfied: packaging==24.2 in /usr/local/lib/python3.10/dist-packages (from -r requirements.txt (line 27)) (24.2)\n",
            "Collecting pillow==10.4.0 (from -r requirements.txt (line 28))\n",
            "  Downloading pillow-10.4.0-cp310-cp310-manylinux_2_28_x86_64.whl.metadata (9.2 kB)\n",
            "Requirement already satisfied: platformdirs==4.3.6 in /usr/local/lib/python3.10/dist-packages (from -r requirements.txt (line 29)) (4.3.6)\n",
            "Requirement already satisfied: pooch==1.8.2 in /usr/local/lib/python3.10/dist-packages (from -r requirements.txt (line 30)) (1.8.2)\n",
            "Requirement already satisfied: proglog==0.1.10 in /usr/local/lib/python3.10/dist-packages (from -r requirements.txt (line 31)) (0.1.10)\n",
            "Requirement already satisfied: pycparser==2.22 in /usr/local/lib/python3.10/dist-packages (from -r requirements.txt (line 32)) (2.22)\n",
            "Collecting python-dotenv==1.0.1 (from -r requirements.txt (line 33))\n",
            "  Downloading python_dotenv-1.0.1-py3-none-any.whl.metadata (23 kB)\n",
            "Requirement already satisfied: requests==2.32.3 in /usr/local/lib/python3.10/dist-packages (from -r requirements.txt (line 34)) (2.32.3)\n",
            "Requirement already satisfied: scikit-learn==1.6.0 in /usr/local/lib/python3.10/dist-packages (from -r requirements.txt (line 35)) (1.6.0)\n",
            "Requirement already satisfied: scipy==1.13.1 in /usr/local/lib/python3.10/dist-packages (from -r requirements.txt (line 36)) (1.13.1)\n",
            "Collecting soundfile==0.13.0 (from -r requirements.txt (line 37))\n",
            "  Downloading soundfile-0.13.0-py2.py3-none-manylinux_2_28_x86_64.whl.metadata (16 kB)\n",
            "Requirement already satisfied: soxr==0.5.0.post1 in /usr/local/lib/python3.10/dist-packages (from -r requirements.txt (line 38)) (0.5.0.post1)\n",
            "Requirement already satisfied: sympy==1.13.1 in /usr/local/lib/python3.10/dist-packages (from -r requirements.txt (line 39)) (1.13.1)\n",
            "Requirement already satisfied: threadpoolctl==3.5.0 in /usr/local/lib/python3.10/dist-packages (from -r requirements.txt (line 40)) (3.5.0)\n",
            "Requirement already satisfied: torch==2.5.1 in /usr/local/lib/python3.10/dist-packages (from -r requirements.txt (line 41)) (2.5.1+cu121)\n",
            "Requirement already satisfied: torchvision==0.20.1 in /usr/local/lib/python3.10/dist-packages (from -r requirements.txt (line 42)) (0.20.1+cu121)\n",
            "Requirement already satisfied: tqdm==4.67.1 in /usr/local/lib/python3.10/dist-packages (from -r requirements.txt (line 43)) (4.67.1)\n",
            "Requirement already satisfied: typing_extensions==4.12.2 in /usr/local/lib/python3.10/dist-packages (from -r requirements.txt (line 44)) (4.12.2)\n",
            "Collecting urllib3==2.3.0 (from -r requirements.txt (line 45))\n",
            "  Downloading urllib3-2.3.0-py3-none-any.whl.metadata (6.5 kB)\n",
            "Requirement already satisfied: setuptools in /usr/local/lib/python3.10/dist-packages (from imageio-ffmpeg==0.5.1->-r requirements.txt (line 12)) (75.1.0)\n",
            "Downloading charset_normalizer-3.4.1-cp310-cp310-manylinux_2_17_x86_64.manylinux2014_x86_64.whl (146 kB)\n",
            "\u001b[2K   \u001b[90m━━━━━━━━━━━━━━━━━━━━━━━━━━━━━━━━━━━━━━━━\u001b[0m \u001b[32m146.1/146.1 kB\u001b[0m \u001b[31m8.3 MB/s\u001b[0m eta \u001b[36m0:00:00\u001b[0m\n",
            "\u001b[?25hDownloading click-8.1.8-py3-none-any.whl (98 kB)\n",
            "\u001b[2K   \u001b[90m━━━━━━━━━━━━━━━━━━━━━━━━━━━━━━━━━━━━━━━━\u001b[0m \u001b[32m98.2/98.2 kB\u001b[0m \u001b[31m12.1 MB/s\u001b[0m eta \u001b[36m0:00:00\u001b[0m\n",
            "\u001b[?25hDownloading decorator-5.1.1-py3-none-any.whl (9.1 kB)\n",
            "Downloading fsspec-2024.12.0-py3-none-any.whl (183 kB)\n",
            "\u001b[2K   \u001b[90m━━━━━━━━━━━━━━━━━━━━━━━━━━━━━━━━━━━━━━━━\u001b[0m \u001b[32m183.9/183.9 kB\u001b[0m \u001b[31m20.8 MB/s\u001b[0m eta \u001b[36m0:00:00\u001b[0m\n",
            "\u001b[?25hDownloading gTTS-2.5.4-py3-none-any.whl (29 kB)\n",
            "Downloading jinja2-3.1.5-py3-none-any.whl (134 kB)\n",
            "\u001b[2K   \u001b[90m━━━━━━━━━━━━━━━━━━━━━━━━━━━━━━━━━━━━━━━━\u001b[0m \u001b[32m134.6/134.6 kB\u001b[0m \u001b[31m15.3 MB/s\u001b[0m eta \u001b[36m0:00:00\u001b[0m\n",
            "\u001b[?25hDownloading moviepy-2.1.1-py3-none-any.whl (123 kB)\n",
            "\u001b[2K   \u001b[90m━━━━━━━━━━━━━━━━━━━━━━━━━━━━━━━━━━━━━━━━\u001b[0m \u001b[32m123.5/123.5 kB\u001b[0m \u001b[31m14.2 MB/s\u001b[0m eta \u001b[36m0:00:00\u001b[0m\n",
            "\u001b[?25hDownloading networkx-3.2.1-py3-none-any.whl (1.6 MB)\n",
            "\u001b[2K   \u001b[90m━━━━━━━━━━━━━━━━━━━━━━━━━━━━━━━━━━━━━━━━\u001b[0m \u001b[32m1.6/1.6 MB\u001b[0m \u001b[31m44.8 MB/s\u001b[0m eta \u001b[36m0:00:00\u001b[0m\n",
            "\u001b[?25hDownloading numpy-2.0.2-cp310-cp310-manylinux_2_17_x86_64.manylinux2014_x86_64.whl (19.5 MB)\n",
            "\u001b[2K   \u001b[90m━━━━━━━━━━━━━━━━━━━━━━━━━━━━━━━━━━━━━━━━\u001b[0m \u001b[32m19.5/19.5 MB\u001b[0m \u001b[31m95.9 MB/s\u001b[0m eta \u001b[36m0:00:00\u001b[0m\n",
            "\u001b[?25hDownloading pillow-10.4.0-cp310-cp310-manylinux_2_28_x86_64.whl (4.5 MB)\n",
            "\u001b[2K   \u001b[90m━━━━━━━━━━━━━━━━━━━━━━━━━━━━━━━━━━━━━━━━\u001b[0m \u001b[32m4.5/4.5 MB\u001b[0m \u001b[31m94.7 MB/s\u001b[0m eta \u001b[36m0:00:00\u001b[0m\n",
            "\u001b[?25hDownloading python_dotenv-1.0.1-py3-none-any.whl (19 kB)\n",
            "Downloading soundfile-0.13.0-py2.py3-none-manylinux_2_28_x86_64.whl (1.3 MB)\n",
            "\u001b[2K   \u001b[90m━━━━━━━━━━━━━━━━━━━━━━━━━━━━━━━━━━━━━━━━\u001b[0m \u001b[32m1.3/1.3 MB\u001b[0m \u001b[31m77.9 MB/s\u001b[0m eta \u001b[36m0:00:00\u001b[0m\n",
            "\u001b[?25hDownloading urllib3-2.3.0-py3-none-any.whl (128 kB)\n",
            "\u001b[2K   \u001b[90m━━━━━━━━━━━━━━━━━━━━━━━━━━━━━━━━━━━━━━━━\u001b[0m \u001b[32m128.4/128.4 kB\u001b[0m \u001b[31m15.1 MB/s\u001b[0m eta \u001b[36m0:00:00\u001b[0m\n",
            "\u001b[?25hInstalling collected packages: urllib3, python-dotenv, pillow, numpy, networkx, Jinja2, fsspec, decorator, click, charset-normalizer, soundfile, moviepy, gTTS\n",
            "  Attempting uninstall: urllib3\n",
            "    Found existing installation: urllib3 2.2.3\n",
            "    Uninstalling urllib3-2.2.3:\n",
            "      Successfully uninstalled urllib3-2.2.3\n",
            "  Attempting uninstall: pillow\n",
            "    Found existing installation: pillow 11.0.0\n",
            "    Uninstalling pillow-11.0.0:\n",
            "      Successfully uninstalled pillow-11.0.0\n",
            "  Attempting uninstall: numpy\n",
            "    Found existing installation: numpy 1.26.4\n",
            "    Uninstalling numpy-1.26.4:\n",
            "      Successfully uninstalled numpy-1.26.4\n",
            "  Attempting uninstall: networkx\n",
            "    Found existing installation: networkx 3.4.2\n",
            "    Uninstalling networkx-3.4.2:\n",
            "      Successfully uninstalled networkx-3.4.2\n",
            "  Attempting uninstall: Jinja2\n",
            "    Found existing installation: Jinja2 3.1.4\n",
            "    Uninstalling Jinja2-3.1.4:\n",
            "      Successfully uninstalled Jinja2-3.1.4\n",
            "  Attempting uninstall: fsspec\n",
            "    Found existing installation: fsspec 2024.10.0\n",
            "    Uninstalling fsspec-2024.10.0:\n",
            "      Successfully uninstalled fsspec-2024.10.0\n",
            "  Attempting uninstall: decorator\n",
            "    Found existing installation: decorator 4.4.2\n",
            "    Uninstalling decorator-4.4.2:\n",
            "      Successfully uninstalled decorator-4.4.2\n",
            "  Attempting uninstall: click\n",
            "    Found existing installation: click 8.1.7\n",
            "    Uninstalling click-8.1.7:\n",
            "      Successfully uninstalled click-8.1.7\n",
            "  Attempting uninstall: charset-normalizer\n",
            "    Found existing installation: charset-normalizer 3.4.0\n",
            "    Uninstalling charset-normalizer-3.4.0:\n",
            "      Successfully uninstalled charset-normalizer-3.4.0\n",
            "  Attempting uninstall: soundfile\n",
            "    Found existing installation: soundfile 0.12.1\n",
            "    Uninstalling soundfile-0.12.1:\n",
            "      Successfully uninstalled soundfile-0.12.1\n",
            "  Attempting uninstall: moviepy\n",
            "    Found existing installation: moviepy 1.0.3\n",
            "    Uninstalling moviepy-1.0.3:\n",
            "      Successfully uninstalled moviepy-1.0.3\n",
            "\u001b[31mERROR: pip's dependency resolver does not currently take into account all the packages that are installed. This behaviour is the source of the following dependency conflicts.\n",
            "ipython 7.34.0 requires jedi>=0.16, which is not installed.\n",
            "cupy-cuda12x 12.2.0 requires numpy<1.27,>=1.20, but you have numpy 2.0.2 which is incompatible.\n",
            "gcsfs 2024.10.0 requires fsspec==2024.10.0, but you have fsspec 2024.12.0 which is incompatible.\n",
            "gensim 4.3.3 requires numpy<2.0,>=1.18.5, but you have numpy 2.0.2 which is incompatible.\n",
            "langchain 0.3.12 requires numpy<2,>=1.22.4; python_version < \"3.12\", but you have numpy 2.0.2 which is incompatible.\n",
            "matplotlib 3.8.0 requires numpy<2,>=1.21, but you have numpy 2.0.2 which is incompatible.\n",
            "pytensor 2.26.4 requires numpy<2,>=1.17.0, but you have numpy 2.0.2 which is incompatible.\n",
            "tensorflow 2.17.1 requires numpy<2.0.0,>=1.23.5; python_version <= \"3.11\", but you have numpy 2.0.2 which is incompatible.\n",
            "thinc 8.2.5 requires numpy<2.0.0,>=1.19.0; python_version >= \"3.9\", but you have numpy 2.0.2 which is incompatible.\u001b[0m\u001b[31m\n",
            "\u001b[0mSuccessfully installed Jinja2-3.1.5 charset-normalizer-3.4.1 click-8.1.8 decorator-5.1.1 fsspec-2024.12.0 gTTS-2.5.4 moviepy-2.1.1 networkx-3.2.1 numpy-2.0.2 pillow-10.4.0 python-dotenv-1.0.1 soundfile-0.13.0 urllib3-2.3.0\n"
          ]
        },
        {
          "output_type": "display_data",
          "data": {
            "application/vnd.colab-display-data+json": {
              "pip_warning": {
                "packages": [
                  "PIL",
                  "decorator"
                ]
              },
              "id": "f83e6c33a1b24b50bb750c595957f272"
            }
          },
          "metadata": {}
        }
      ],
      "source": [
        "!git clone https://github.com/mubasher-sl/ai-tasks.git\n",
        "%cd ai-tasks/digital_human/\n",
        "!pip install -r requirements.txt"
      ]
    },
    {
      "cell_type": "code",
      "source": [
        "!apt install ffmpeg"
      ],
      "metadata": {
        "colab": {
          "base_uri": "https://localhost:8080/"
        },
        "id": "IYoZlaEdBp7W",
        "outputId": "0da2199f-f4c0-4371-8b89-5dfed0fe3d13"
      },
      "execution_count": 41,
      "outputs": [
        {
          "output_type": "stream",
          "name": "stdout",
          "text": [
            "Reading package lists... Done\n",
            "Building dependency tree... Done\n",
            "Reading state information... Done\n",
            "ffmpeg is already the newest version (7:4.4.2-0ubuntu0.22.04.1).\n",
            "0 upgraded, 0 newly installed, 0 to remove and 49 not upgraded.\n"
          ]
        }
      ]
    },
    {
      "cell_type": "code",
      "source": [
        "from google.colab import drive\n",
        "drive.mount('/content/drive')"
      ],
      "metadata": {
        "colab": {
          "base_uri": "https://localhost:8080/"
        },
        "id": "suELVRdFM_lu",
        "outputId": "2fc02403-2873-4ce9-821b-67cbc3bf4cba"
      },
      "execution_count": 42,
      "outputs": [
        {
          "output_type": "stream",
          "name": "stdout",
          "text": [
            "Drive already mounted at /content/drive; to attempt to forcibly remount, call drive.mount(\"/content/drive\", force_remount=True).\n"
          ]
        }
      ]
    },
    {
      "cell_type": "markdown",
      "source": [
        "# New Section"
      ],
      "metadata": {
        "id": "mOJwn6KANkp2"
      }
    },
    {
      "cell_type": "code",
      "source": [
        "!ls /content/drive/MyDrive\n",
        "%cd /content/drive/MyDrive/weights/\n",
        "!ls\n",
        "!cp /content/drive/MyDrive/weights/wav2lip_gan.pth /content/drive/MyDrive/weights/ai-tasks-main/digital_human/checkpoints\n"
      ],
      "metadata": {
        "colab": {
          "base_uri": "https://localhost:8080/"
        },
        "id": "jz-IP5nHOYIh",
        "outputId": "aa79242f-0e8f-4a3b-b267-328d95259e95"
      },
      "execution_count": 43,
      "outputs": [
        {
          "output_type": "stream",
          "name": "stdout",
          "text": [
            "'AI ML Base Models'  'Estimates - ArtGallery WP Project - Kashif.gsheet'\n",
            "'Colab Notebooks'     weights\n",
            "/content/drive/MyDrive/weights\n",
            "ai-tasks-main  content.wav\t   converted-output.mp4  input_video.mp4\n",
            "audio.py       converted-elon.mp4  converted-ted.mp4\t wav2lip_gan.pth\n"
          ]
        }
      ]
    },
    {
      "cell_type": "code",
      "source": [
        "!ls /content/drive/MyDrive\n",
        "%cd /content/drive/MyDrive/weights/\n",
        "!cp /content/drive/MyDrive/weights/converted-elon.mp4 /content/drive/MyDrive/weights/ai-tasks-main/digital_human/\n",
        "!cp /content/drive/MyDrive/weights/content.wav /content/drive/MyDrive/weights/ai-tasks-main/digital_human/"
      ],
      "metadata": {
        "colab": {
          "base_uri": "https://localhost:8080/"
        },
        "id": "YnADz-lRO80t",
        "outputId": "d5551bb6-0872-48b6-f04f-f66929ee33d3"
      },
      "execution_count": 44,
      "outputs": [
        {
          "output_type": "stream",
          "name": "stdout",
          "text": [
            "'AI ML Base Models'  'Estimates - ArtGallery WP Project - Kashif.gsheet'\n",
            "'Colab Notebooks'     weights\n",
            "/content/drive/MyDrive/weights\n"
          ]
        }
      ]
    },
    {
      "cell_type": "code",
      "source": [
        "%cd ai-tasks-main/digital_human/\n",
        "!pip install -r requirements.txt"
      ],
      "metadata": {
        "colab": {
          "base_uri": "https://localhost:8080/"
        },
        "id": "CPMVahJzRQyG",
        "outputId": "3bfdfa78-32e6-4706-b914-ba8883d438b1"
      },
      "execution_count": 45,
      "outputs": [
        {
          "output_type": "stream",
          "name": "stdout",
          "text": [
            "/content/drive/MyDrive/weights/ai-tasks-main/digital_human\n",
            "Requirement already satisfied: audioread==3.0.1 in /usr/local/lib/python3.10/dist-packages (from -r requirements.txt (line 1)) (3.0.1)\n",
            "Requirement already satisfied: certifi==2024.12.14 in /usr/local/lib/python3.10/dist-packages (from -r requirements.txt (line 2)) (2024.12.14)\n",
            "Requirement already satisfied: cffi==1.17.1 in /usr/local/lib/python3.10/dist-packages (from -r requirements.txt (line 3)) (1.17.1)\n",
            "Requirement already satisfied: charset-normalizer==3.4.1 in /usr/local/lib/python3.10/dist-packages (from -r requirements.txt (line 4)) (3.4.1)\n",
            "Requirement already satisfied: click==8.1.8 in /usr/local/lib/python3.10/dist-packages (from -r requirements.txt (line 5)) (8.1.8)\n",
            "Requirement already satisfied: decorator==5.1.1 in /usr/local/lib/python3.10/dist-packages (from -r requirements.txt (line 6)) (5.1.1)\n",
            "Requirement already satisfied: filelock==3.16.1 in /usr/local/lib/python3.10/dist-packages (from -r requirements.txt (line 7)) (3.16.1)\n",
            "Requirement already satisfied: fsspec==2024.12.0 in /usr/local/lib/python3.10/dist-packages (from -r requirements.txt (line 8)) (2024.12.0)\n",
            "Requirement already satisfied: gTTS==2.5.4 in /usr/local/lib/python3.10/dist-packages (from -r requirements.txt (line 9)) (2.5.4)\n",
            "Requirement already satisfied: idna==3.10 in /usr/local/lib/python3.10/dist-packages (from -r requirements.txt (line 10)) (3.10)\n",
            "Requirement already satisfied: imageio==2.36.1 in /usr/local/lib/python3.10/dist-packages (from -r requirements.txt (line 11)) (2.36.1)\n",
            "Requirement already satisfied: imageio-ffmpeg==0.5.1 in /usr/local/lib/python3.10/dist-packages (from -r requirements.txt (line 12)) (0.5.1)\n",
            "Requirement already satisfied: Jinja2==3.1.5 in /usr/local/lib/python3.10/dist-packages (from -r requirements.txt (line 13)) (3.1.5)\n",
            "Requirement already satisfied: joblib==1.4.2 in /usr/local/lib/python3.10/dist-packages (from -r requirements.txt (line 14)) (1.4.2)\n",
            "Requirement already satisfied: lazy_loader==0.4 in /usr/local/lib/python3.10/dist-packages (from -r requirements.txt (line 15)) (0.4)\n",
            "Requirement already satisfied: librosa==0.10.2.post1 in /usr/local/lib/python3.10/dist-packages (from -r requirements.txt (line 16)) (0.10.2.post1)\n",
            "Requirement already satisfied: llvmlite==0.43.0 in /usr/local/lib/python3.10/dist-packages (from -r requirements.txt (line 17)) (0.43.0)\n",
            "Requirement already satisfied: MarkupSafe==3.0.2 in /usr/local/lib/python3.10/dist-packages (from -r requirements.txt (line 18)) (3.0.2)\n",
            "Requirement already satisfied: moviepy==2.1.1 in /usr/local/lib/python3.10/dist-packages (from -r requirements.txt (line 19)) (2.1.1)\n",
            "Requirement already satisfied: mpmath==1.3.0 in /usr/local/lib/python3.10/dist-packages (from -r requirements.txt (line 20)) (1.3.0)\n",
            "Requirement already satisfied: msgpack==1.1.0 in /usr/local/lib/python3.10/dist-packages (from -r requirements.txt (line 21)) (1.1.0)\n",
            "Requirement already satisfied: networkx==3.2.1 in /usr/local/lib/python3.10/dist-packages (from -r requirements.txt (line 22)) (3.2.1)\n",
            "Requirement already satisfied: numba==0.60.0 in /usr/local/lib/python3.10/dist-packages (from -r requirements.txt (line 23)) (0.60.0)\n",
            "Requirement already satisfied: numpy==2.0.2 in /usr/local/lib/python3.10/dist-packages (from -r requirements.txt (line 24)) (2.0.2)\n",
            "Requirement already satisfied: opencv-contrib-python==4.10.0.84 in /usr/local/lib/python3.10/dist-packages (from -r requirements.txt (line 25)) (4.10.0.84)\n",
            "Requirement already satisfied: opencv-python==4.10.0.84 in /usr/local/lib/python3.10/dist-packages (from -r requirements.txt (line 26)) (4.10.0.84)\n",
            "Requirement already satisfied: packaging==24.2 in /usr/local/lib/python3.10/dist-packages (from -r requirements.txt (line 27)) (24.2)\n",
            "Requirement already satisfied: pillow==10.4.0 in /usr/local/lib/python3.10/dist-packages (from -r requirements.txt (line 28)) (10.4.0)\n",
            "Requirement already satisfied: platformdirs==4.3.6 in /usr/local/lib/python3.10/dist-packages (from -r requirements.txt (line 29)) (4.3.6)\n",
            "Requirement already satisfied: pooch==1.8.2 in /usr/local/lib/python3.10/dist-packages (from -r requirements.txt (line 30)) (1.8.2)\n",
            "Requirement already satisfied: proglog==0.1.10 in /usr/local/lib/python3.10/dist-packages (from -r requirements.txt (line 31)) (0.1.10)\n",
            "Requirement already satisfied: pycparser==2.22 in /usr/local/lib/python3.10/dist-packages (from -r requirements.txt (line 32)) (2.22)\n",
            "Requirement already satisfied: python-dotenv==1.0.1 in /usr/local/lib/python3.10/dist-packages (from -r requirements.txt (line 33)) (1.0.1)\n",
            "Requirement already satisfied: requests==2.32.3 in /usr/local/lib/python3.10/dist-packages (from -r requirements.txt (line 34)) (2.32.3)\n",
            "Requirement already satisfied: scikit-learn==1.6.0 in /usr/local/lib/python3.10/dist-packages (from -r requirements.txt (line 35)) (1.6.0)\n",
            "Requirement already satisfied: scipy==1.13.1 in /usr/local/lib/python3.10/dist-packages (from -r requirements.txt (line 36)) (1.13.1)\n",
            "Requirement already satisfied: soundfile==0.13.0 in /usr/local/lib/python3.10/dist-packages (from -r requirements.txt (line 37)) (0.13.0)\n",
            "Requirement already satisfied: soxr==0.5.0.post1 in /usr/local/lib/python3.10/dist-packages (from -r requirements.txt (line 38)) (0.5.0.post1)\n",
            "Requirement already satisfied: sympy==1.13.1 in /usr/local/lib/python3.10/dist-packages (from -r requirements.txt (line 39)) (1.13.1)\n",
            "Requirement already satisfied: threadpoolctl==3.5.0 in /usr/local/lib/python3.10/dist-packages (from -r requirements.txt (line 40)) (3.5.0)\n",
            "Requirement already satisfied: torch==2.5.1 in /usr/local/lib/python3.10/dist-packages (from -r requirements.txt (line 41)) (2.5.1+cu121)\n",
            "Requirement already satisfied: torchvision==0.20.1 in /usr/local/lib/python3.10/dist-packages (from -r requirements.txt (line 42)) (0.20.1+cu121)\n",
            "Requirement already satisfied: tqdm==4.67.1 in /usr/local/lib/python3.10/dist-packages (from -r requirements.txt (line 43)) (4.67.1)\n",
            "Requirement already satisfied: typing_extensions==4.12.2 in /usr/local/lib/python3.10/dist-packages (from -r requirements.txt (line 44)) (4.12.2)\n",
            "Requirement already satisfied: urllib3==2.3.0 in /usr/local/lib/python3.10/dist-packages (from -r requirements.txt (line 45)) (2.3.0)\n",
            "Requirement already satisfied: setuptools in /usr/local/lib/python3.10/dist-packages (from imageio-ffmpeg==0.5.1->-r requirements.txt (line 12)) (75.1.0)\n"
          ]
        }
      ]
    },
    {
      "cell_type": "code",
      "source": [
        "!pip install -r /content/drive/MyDrive/weights/ai-tasks-main/digital_human/requirements.txt"
      ],
      "metadata": {
        "colab": {
          "base_uri": "https://localhost:8080/"
        },
        "id": "RA4kYFwvEPNY",
        "outputId": "d8428661-4d1a-42a1-d279-d12650deb472"
      },
      "execution_count": 46,
      "outputs": [
        {
          "output_type": "stream",
          "name": "stdout",
          "text": [
            "Requirement already satisfied: audioread==3.0.1 in /usr/local/lib/python3.10/dist-packages (from -r /content/drive/MyDrive/weights/ai-tasks-main/digital_human/requirements.txt (line 1)) (3.0.1)\n",
            "Requirement already satisfied: certifi==2024.12.14 in /usr/local/lib/python3.10/dist-packages (from -r /content/drive/MyDrive/weights/ai-tasks-main/digital_human/requirements.txt (line 2)) (2024.12.14)\n",
            "Requirement already satisfied: cffi==1.17.1 in /usr/local/lib/python3.10/dist-packages (from -r /content/drive/MyDrive/weights/ai-tasks-main/digital_human/requirements.txt (line 3)) (1.17.1)\n",
            "Requirement already satisfied: charset-normalizer==3.4.1 in /usr/local/lib/python3.10/dist-packages (from -r /content/drive/MyDrive/weights/ai-tasks-main/digital_human/requirements.txt (line 4)) (3.4.1)\n",
            "Requirement already satisfied: click==8.1.8 in /usr/local/lib/python3.10/dist-packages (from -r /content/drive/MyDrive/weights/ai-tasks-main/digital_human/requirements.txt (line 5)) (8.1.8)\n",
            "Requirement already satisfied: decorator==5.1.1 in /usr/local/lib/python3.10/dist-packages (from -r /content/drive/MyDrive/weights/ai-tasks-main/digital_human/requirements.txt (line 6)) (5.1.1)\n",
            "Requirement already satisfied: filelock==3.16.1 in /usr/local/lib/python3.10/dist-packages (from -r /content/drive/MyDrive/weights/ai-tasks-main/digital_human/requirements.txt (line 7)) (3.16.1)\n",
            "Requirement already satisfied: fsspec==2024.12.0 in /usr/local/lib/python3.10/dist-packages (from -r /content/drive/MyDrive/weights/ai-tasks-main/digital_human/requirements.txt (line 8)) (2024.12.0)\n",
            "Requirement already satisfied: gTTS==2.5.4 in /usr/local/lib/python3.10/dist-packages (from -r /content/drive/MyDrive/weights/ai-tasks-main/digital_human/requirements.txt (line 9)) (2.5.4)\n",
            "Requirement already satisfied: idna==3.10 in /usr/local/lib/python3.10/dist-packages (from -r /content/drive/MyDrive/weights/ai-tasks-main/digital_human/requirements.txt (line 10)) (3.10)\n",
            "Requirement already satisfied: imageio==2.36.1 in /usr/local/lib/python3.10/dist-packages (from -r /content/drive/MyDrive/weights/ai-tasks-main/digital_human/requirements.txt (line 11)) (2.36.1)\n",
            "Requirement already satisfied: imageio-ffmpeg==0.5.1 in /usr/local/lib/python3.10/dist-packages (from -r /content/drive/MyDrive/weights/ai-tasks-main/digital_human/requirements.txt (line 12)) (0.5.1)\n",
            "Requirement already satisfied: Jinja2==3.1.5 in /usr/local/lib/python3.10/dist-packages (from -r /content/drive/MyDrive/weights/ai-tasks-main/digital_human/requirements.txt (line 13)) (3.1.5)\n",
            "Requirement already satisfied: joblib==1.4.2 in /usr/local/lib/python3.10/dist-packages (from -r /content/drive/MyDrive/weights/ai-tasks-main/digital_human/requirements.txt (line 14)) (1.4.2)\n",
            "Requirement already satisfied: lazy_loader==0.4 in /usr/local/lib/python3.10/dist-packages (from -r /content/drive/MyDrive/weights/ai-tasks-main/digital_human/requirements.txt (line 15)) (0.4)\n",
            "Requirement already satisfied: librosa==0.10.2.post1 in /usr/local/lib/python3.10/dist-packages (from -r /content/drive/MyDrive/weights/ai-tasks-main/digital_human/requirements.txt (line 16)) (0.10.2.post1)\n",
            "Requirement already satisfied: llvmlite==0.43.0 in /usr/local/lib/python3.10/dist-packages (from -r /content/drive/MyDrive/weights/ai-tasks-main/digital_human/requirements.txt (line 17)) (0.43.0)\n",
            "Requirement already satisfied: MarkupSafe==3.0.2 in /usr/local/lib/python3.10/dist-packages (from -r /content/drive/MyDrive/weights/ai-tasks-main/digital_human/requirements.txt (line 18)) (3.0.2)\n",
            "Requirement already satisfied: moviepy==2.1.1 in /usr/local/lib/python3.10/dist-packages (from -r /content/drive/MyDrive/weights/ai-tasks-main/digital_human/requirements.txt (line 19)) (2.1.1)\n",
            "Requirement already satisfied: mpmath==1.3.0 in /usr/local/lib/python3.10/dist-packages (from -r /content/drive/MyDrive/weights/ai-tasks-main/digital_human/requirements.txt (line 20)) (1.3.0)\n",
            "Requirement already satisfied: msgpack==1.1.0 in /usr/local/lib/python3.10/dist-packages (from -r /content/drive/MyDrive/weights/ai-tasks-main/digital_human/requirements.txt (line 21)) (1.1.0)\n",
            "Requirement already satisfied: networkx==3.2.1 in /usr/local/lib/python3.10/dist-packages (from -r /content/drive/MyDrive/weights/ai-tasks-main/digital_human/requirements.txt (line 22)) (3.2.1)\n",
            "Requirement already satisfied: numba==0.60.0 in /usr/local/lib/python3.10/dist-packages (from -r /content/drive/MyDrive/weights/ai-tasks-main/digital_human/requirements.txt (line 23)) (0.60.0)\n",
            "Requirement already satisfied: numpy==2.0.2 in /usr/local/lib/python3.10/dist-packages (from -r /content/drive/MyDrive/weights/ai-tasks-main/digital_human/requirements.txt (line 24)) (2.0.2)\n",
            "Requirement already satisfied: opencv-contrib-python==4.10.0.84 in /usr/local/lib/python3.10/dist-packages (from -r /content/drive/MyDrive/weights/ai-tasks-main/digital_human/requirements.txt (line 25)) (4.10.0.84)\n",
            "Requirement already satisfied: opencv-python==4.10.0.84 in /usr/local/lib/python3.10/dist-packages (from -r /content/drive/MyDrive/weights/ai-tasks-main/digital_human/requirements.txt (line 26)) (4.10.0.84)\n",
            "Requirement already satisfied: packaging==24.2 in /usr/local/lib/python3.10/dist-packages (from -r /content/drive/MyDrive/weights/ai-tasks-main/digital_human/requirements.txt (line 27)) (24.2)\n",
            "Requirement already satisfied: pillow==10.4.0 in /usr/local/lib/python3.10/dist-packages (from -r /content/drive/MyDrive/weights/ai-tasks-main/digital_human/requirements.txt (line 28)) (10.4.0)\n",
            "Requirement already satisfied: platformdirs==4.3.6 in /usr/local/lib/python3.10/dist-packages (from -r /content/drive/MyDrive/weights/ai-tasks-main/digital_human/requirements.txt (line 29)) (4.3.6)\n",
            "Requirement already satisfied: pooch==1.8.2 in /usr/local/lib/python3.10/dist-packages (from -r /content/drive/MyDrive/weights/ai-tasks-main/digital_human/requirements.txt (line 30)) (1.8.2)\n",
            "Requirement already satisfied: proglog==0.1.10 in /usr/local/lib/python3.10/dist-packages (from -r /content/drive/MyDrive/weights/ai-tasks-main/digital_human/requirements.txt (line 31)) (0.1.10)\n",
            "Requirement already satisfied: pycparser==2.22 in /usr/local/lib/python3.10/dist-packages (from -r /content/drive/MyDrive/weights/ai-tasks-main/digital_human/requirements.txt (line 32)) (2.22)\n",
            "Requirement already satisfied: python-dotenv==1.0.1 in /usr/local/lib/python3.10/dist-packages (from -r /content/drive/MyDrive/weights/ai-tasks-main/digital_human/requirements.txt (line 33)) (1.0.1)\n",
            "Requirement already satisfied: requests==2.32.3 in /usr/local/lib/python3.10/dist-packages (from -r /content/drive/MyDrive/weights/ai-tasks-main/digital_human/requirements.txt (line 34)) (2.32.3)\n",
            "Requirement already satisfied: scikit-learn==1.6.0 in /usr/local/lib/python3.10/dist-packages (from -r /content/drive/MyDrive/weights/ai-tasks-main/digital_human/requirements.txt (line 35)) (1.6.0)\n",
            "Requirement already satisfied: scipy==1.13.1 in /usr/local/lib/python3.10/dist-packages (from -r /content/drive/MyDrive/weights/ai-tasks-main/digital_human/requirements.txt (line 36)) (1.13.1)\n",
            "Requirement already satisfied: soundfile==0.13.0 in /usr/local/lib/python3.10/dist-packages (from -r /content/drive/MyDrive/weights/ai-tasks-main/digital_human/requirements.txt (line 37)) (0.13.0)\n",
            "Requirement already satisfied: soxr==0.5.0.post1 in /usr/local/lib/python3.10/dist-packages (from -r /content/drive/MyDrive/weights/ai-tasks-main/digital_human/requirements.txt (line 38)) (0.5.0.post1)\n",
            "Requirement already satisfied: sympy==1.13.1 in /usr/local/lib/python3.10/dist-packages (from -r /content/drive/MyDrive/weights/ai-tasks-main/digital_human/requirements.txt (line 39)) (1.13.1)\n",
            "Requirement already satisfied: threadpoolctl==3.5.0 in /usr/local/lib/python3.10/dist-packages (from -r /content/drive/MyDrive/weights/ai-tasks-main/digital_human/requirements.txt (line 40)) (3.5.0)\n",
            "Requirement already satisfied: torch==2.5.1 in /usr/local/lib/python3.10/dist-packages (from -r /content/drive/MyDrive/weights/ai-tasks-main/digital_human/requirements.txt (line 41)) (2.5.1+cu121)\n",
            "Requirement already satisfied: torchvision==0.20.1 in /usr/local/lib/python3.10/dist-packages (from -r /content/drive/MyDrive/weights/ai-tasks-main/digital_human/requirements.txt (line 42)) (0.20.1+cu121)\n",
            "Requirement already satisfied: tqdm==4.67.1 in /usr/local/lib/python3.10/dist-packages (from -r /content/drive/MyDrive/weights/ai-tasks-main/digital_human/requirements.txt (line 43)) (4.67.1)\n",
            "Requirement already satisfied: typing_extensions==4.12.2 in /usr/local/lib/python3.10/dist-packages (from -r /content/drive/MyDrive/weights/ai-tasks-main/digital_human/requirements.txt (line 44)) (4.12.2)\n",
            "Requirement already satisfied: urllib3==2.3.0 in /usr/local/lib/python3.10/dist-packages (from -r /content/drive/MyDrive/weights/ai-tasks-main/digital_human/requirements.txt (line 45)) (2.3.0)\n",
            "Requirement already satisfied: setuptools in /usr/local/lib/python3.10/dist-packages (from imageio-ffmpeg==0.5.1->-r /content/drive/MyDrive/weights/ai-tasks-main/digital_human/requirements.txt (line 12)) (75.1.0)\n"
          ]
        }
      ]
    },
    {
      "cell_type": "code",
      "source": [
        "%cd /content/drive/MyDrive/weights/ai-tasks-main/digital_human"
      ],
      "metadata": {
        "colab": {
          "base_uri": "https://localhost:8080/"
        },
        "id": "dTjtEC1y-dF_",
        "outputId": "a964ef0a-643c-418a-df44-03c08a063a2e"
      },
      "execution_count": 47,
      "outputs": [
        {
          "output_type": "stream",
          "name": "stdout",
          "text": [
            "/content/drive/MyDrive/weights/ai-tasks-main/digital_human\n"
          ]
        }
      ]
    },
    {
      "cell_type": "code",
      "source": [
        "!python3 digital_human.py"
      ],
      "metadata": {
        "colab": {
          "base_uri": "https://localhost:8080/"
        },
        "id": "WWXEJs7PE3ET",
        "outputId": "430b9d5e-7e56-4482-f94a-81a32313f29a"
      },
      "execution_count": 48,
      "outputs": [
        {
          "output_type": "stream",
          "name": "stdout",
          "text": [
            "Audio file saved as: output.wav\n",
            "Using cuda for inference.\n",
            "Reading video frames...\n",
            "Number of frames available for inference: 211\n",
            "(80, 696)\n",
            "Length of mel chunks: 206\n",
            "  0% 0/2 [00:00<?, ?it/s]\n",
            "  0% 0/13 [00:00<?, ?it/s]\u001b[A\n",
            "  8% 1/13 [00:05<01:05,  5.49s/it]\u001b[A\n",
            " 15% 2/13 [00:06<00:30,  2.76s/it]\u001b[A\n",
            " 23% 3/13 [00:07<00:18,  1.86s/it]\u001b[A\n",
            " 31% 4/13 [00:07<00:12,  1.44s/it]\u001b[A\n",
            " 38% 5/13 [00:08<00:09,  1.21s/it]\u001b[A\n",
            " 46% 6/13 [00:09<00:07,  1.07s/it]\u001b[A\n",
            " 54% 7/13 [00:10<00:05,  1.02it/s]\u001b[A\n",
            " 62% 8/13 [00:11<00:04,  1.09it/s]\u001b[A\n",
            " 69% 9/13 [00:11<00:03,  1.12it/s]\u001b[A\n",
            " 77% 10/13 [00:12<00:02,  1.16it/s]\u001b[A\n",
            " 85% 11/13 [00:13<00:01,  1.18it/s]\u001b[A\n",
            " 92% 12/13 [00:14<00:00,  1.21it/s]\u001b[A\n",
            "100% 13/13 [00:19<00:00,  1.47s/it]\n",
            "Load checkpoint from: checkpoints/wav2lip_gan.pth\n",
            "/content/drive/MyDrive/weights/ai-tasks-main/digital_human/inference.py:162: FutureWarning: You are using `torch.load` with `weights_only=False` (the current default value), which uses the default pickle module implicitly. It is possible to construct malicious pickle data which will execute arbitrary code during unpickling (See https://github.com/pytorch/pytorch/blob/main/SECURITY.md#untrusted-models for more details). In a future release, the default value for `weights_only` will be flipped to `True`. This limits the functions that could be executed during unpickling. Arbitrary objects will no longer be allowed to be loaded via this mode unless they are explicitly allowlisted by the user via `torch.serialization.add_safe_globals`. We recommend you start setting `weights_only=True` for any use case where you don't have full control of the loaded file. Please open an issue on GitHub for any issues related to this experimental feature.\n",
            "  checkpoint = torch.load(checkpoint_path)\n",
            "Model loaded\n",
            "100% 2/2 [00:22<00:00, 11.46s/it]\n",
            "ffmpeg version 4.4.2-0ubuntu0.22.04.1 Copyright (c) 2000-2021 the FFmpeg developers\n",
            "  built with gcc 11 (Ubuntu 11.2.0-19ubuntu1)\n",
            "  configuration: --prefix=/usr --extra-version=0ubuntu0.22.04.1 --toolchain=hardened --libdir=/usr/lib/x86_64-linux-gnu --incdir=/usr/include/x86_64-linux-gnu --arch=amd64 --enable-gpl --disable-stripping --enable-gnutls --enable-ladspa --enable-libaom --enable-libass --enable-libbluray --enable-libbs2b --enable-libcaca --enable-libcdio --enable-libcodec2 --enable-libdav1d --enable-libflite --enable-libfontconfig --enable-libfreetype --enable-libfribidi --enable-libgme --enable-libgsm --enable-libjack --enable-libmp3lame --enable-libmysofa --enable-libopenjpeg --enable-libopenmpt --enable-libopus --enable-libpulse --enable-librabbitmq --enable-librubberband --enable-libshine --enable-libsnappy --enable-libsoxr --enable-libspeex --enable-libsrt --enable-libssh --enable-libtheora --enable-libtwolame --enable-libvidstab --enable-libvorbis --enable-libvpx --enable-libwebp --enable-libx265 --enable-libxml2 --enable-libxvid --enable-libzimg --enable-libzmq --enable-libzvbi --enable-lv2 --enable-omx --enable-openal --enable-opencl --enable-opengl --enable-sdl2 --enable-pocketsphinx --enable-librsvg --enable-libmfx --enable-libdc1394 --enable-libdrm --enable-libiec61883 --enable-chromaprint --enable-frei0r --enable-libx264 --enable-shared\n",
            "  libavutil      56. 70.100 / 56. 70.100\n",
            "  libavcodec     58.134.100 / 58.134.100\n",
            "  libavformat    58. 76.100 / 58. 76.100\n",
            "  libavdevice    58. 13.100 / 58. 13.100\n",
            "  libavfilter     7.110.100 /  7.110.100\n",
            "  libswscale      5.  9.100 /  5.  9.100\n",
            "  libswresample   3.  9.100 /  3.  9.100\n",
            "  libpostproc    55.  9.100 / 55.  9.100\n",
            "\u001b[0;35m[mp3 @ 0x5ac7ce75c980] \u001b[0m\u001b[0;33mEstimating duration from bitrate, this may be inaccurate\n",
            "\u001b[0mInput #0, mp3, from 'output.wav':\n",
            "  Duration: 00:00:08.69, start: 0.000000, bitrate: 64 kb/s\n",
            "  Stream #0:0: Audio: mp3, 24000 Hz, mono, fltp, 64 kb/s\n",
            "Input #1, avi, from 'temp/result.avi':\n",
            "  Metadata:\n",
            "    software        : Lavf59.27.100\n",
            "  Duration: 00:00:08.58, start: 0.000000, bitrate: 1087 kb/s\n",
            "  Stream #1:0: Video: mpeg4 (Simple Profile) (DIVX / 0x58564944), yuv420p, 1280x720 [SAR 1:1 DAR 16:9], 1082 kb/s, 24 fps, 24 tbr, 24 tbn, 24 tbc\n",
            "Stream mapping:\n",
            "  Stream #1:0 -> #0:0 (mpeg4 (native) -> h264 (libx264))\n",
            "  Stream #0:0 -> #0:1 (mp3 (mp3float) -> aac (native))\n",
            "Press [q] to stop, [?] for help\n",
            "\u001b[1;36m[libx264 @ 0x5ac7ce7880c0] \u001b[0m\u001b[0;33m-qscale is ignored, -crf is recommended.\n",
            "\u001b[0m\u001b[1;36m[libx264 @ 0x5ac7ce7880c0] \u001b[0musing SAR=1/1\n",
            "\u001b[1;36m[libx264 @ 0x5ac7ce7880c0] \u001b[0musing cpu capabilities: MMX2 SSE2Fast SSSE3 SSE4.2 AVX FMA3 BMI2 AVX2 AVX512\n",
            "\u001b[1;36m[libx264 @ 0x5ac7ce7880c0] \u001b[0mprofile High, level 3.1, 4:2:0, 8-bit\n",
            "\u001b[1;36m[libx264 @ 0x5ac7ce7880c0] \u001b[0m264 - core 163 r3060 5db6aa6 - H.264/MPEG-4 AVC codec - Copyleft 2003-2021 - http://www.videolan.org/x264.html - options: cabac=1 ref=3 deblock=1:0:0 analyse=0x3:0x113 me=hex subme=7 psy=1 psy_rd=1.00:0.00 mixed_ref=1 me_range=16 chroma_me=1 trellis=1 8x8dct=1 cqm=0 deadzone=21,11 fast_pskip=1 chroma_qp_offset=-2 threads=18 lookahead_threads=3 sliced_threads=0 nr=0 decimate=1 interlaced=0 bluray_compat=0 constrained_intra=0 bframes=3 b_pyramid=2 b_adapt=1 b_bias=0 direct=1 weightb=1 open_gop=0 weightp=2 keyint=250 keyint_min=24 scenecut=40 intra_refresh=0 rc_lookahead=40 rc=crf mbtree=1 crf=23.0 qcomp=0.60 qpmin=0 qpmax=69 qpstep=4 ip_ratio=1.40 aq=1:1.00\n",
            "Output #0, mp4, to 'output_video.mp4':\n",
            "  Metadata:\n",
            "    encoder         : Lavf58.76.100\n",
            "  Stream #0:0: Video: h264 (avc1 / 0x31637661), yuv420p(progressive), 1280x720 [SAR 1:1 DAR 16:9], q=2-31, 24 fps, 12288 tbn\n",
            "    Metadata:\n",
            "      encoder         : Lavc58.134.100 libx264\n",
            "    Side data:\n",
            "      cpb: bitrate max/min/avg: 0/0/0 buffer size: 0 vbv_delay: N/A\n",
            "  Stream #0:1: Audio: aac (LC) (mp4a / 0x6134706D), 24000 Hz, mono, fltp, 69 kb/s\n",
            "    Metadata:\n",
            "      encoder         : Lavc58.134.100 aac\n",
            "frame=  206 fps=164 q=-1.0 Lsize=     671kB time=00:00:08.66 bitrate= 634.7kbits/s speed=6.88x    \n",
            "video:578kB audio:87kB subtitle:0kB other streams:0kB global headers:0kB muxing overhead: 0.869896%\n",
            "\u001b[1;36m[libx264 @ 0x5ac7ce7880c0] \u001b[0mframe I:1     Avg QP:15.81  size: 19128\n",
            "\u001b[1;36m[libx264 @ 0x5ac7ce7880c0] \u001b[0mframe P:118   Avg QP:20.50  size:  3837\n",
            "\u001b[1;36m[libx264 @ 0x5ac7ce7880c0] \u001b[0mframe B:87    Avg QP:23.69  size:  1372\n",
            "\u001b[1;36m[libx264 @ 0x5ac7ce7880c0] \u001b[0mconsecutive B-frames: 38.3% 12.6% 10.2% 38.8%\n",
            "\u001b[1;36m[libx264 @ 0x5ac7ce7880c0] \u001b[0mmb I  I16..4: 37.9% 61.1%  0.9%\n",
            "\u001b[1;36m[libx264 @ 0x5ac7ce7880c0] \u001b[0mmb P  I16..4:  0.6%  3.0%  0.1%  P16..4: 16.6%  3.7%  1.6%  0.0%  0.0%    skip:74.4%\n",
            "\u001b[1;36m[libx264 @ 0x5ac7ce7880c0] \u001b[0mmb B  I16..4:  0.2%  1.1%  0.0%  B16..8: 17.7%  0.9%  0.1%  direct: 0.3%  skip:79.8%  L0:51.5% L1:45.8% BI: 2.6%\n",
            "\u001b[1;36m[libx264 @ 0x5ac7ce7880c0] \u001b[0m8x8 transform intra:79.2% inter:87.7%\n",
            "\u001b[1;36m[libx264 @ 0x5ac7ce7880c0] \u001b[0mcoded y,uvDC,uvAC intra: 36.0% 38.7% 8.9% inter: 3.2% 3.9% 0.1%\n",
            "\u001b[1;36m[libx264 @ 0x5ac7ce7880c0] \u001b[0mi16 v,h,dc,p: 54% 22% 16%  8%\n",
            "\u001b[1;36m[libx264 @ 0x5ac7ce7880c0] \u001b[0mi8 v,h,dc,ddl,ddr,vr,hd,vl,hu: 27% 21% 41%  2%  2%  2%  2%  1%  2%\n",
            "\u001b[1;36m[libx264 @ 0x5ac7ce7880c0] \u001b[0mi4 v,h,dc,ddl,ddr,vr,hd,vl,hu: 32% 20% 17%  3%  7%  6%  8%  3%  3%\n",
            "\u001b[1;36m[libx264 @ 0x5ac7ce7880c0] \u001b[0mi8c dc,h,v,p: 47% 18% 31%  4%\n",
            "\u001b[1;36m[libx264 @ 0x5ac7ce7880c0] \u001b[0mWeighted P-Frames: Y:0.0% UV:0.0%\n",
            "\u001b[1;36m[libx264 @ 0x5ac7ce7880c0] \u001b[0mref P L0: 72.0%  8.7% 13.6%  5.7%\n",
            "\u001b[1;36m[libx264 @ 0x5ac7ce7880c0] \u001b[0mref B L0: 83.4% 13.2%  3.4%\n",
            "\u001b[1;36m[libx264 @ 0x5ac7ce7880c0] \u001b[0mref B L1: 97.5%  2.5%\n",
            "\u001b[1;36m[libx264 @ 0x5ac7ce7880c0] \u001b[0mkb/s:551.03\n",
            "\u001b[1;36m[aac @ 0x5ac7ce788d80] \u001b[0mQavg: 6959.255\n",
            "Lip-synced video saved as: output_video.mp4\n",
            "Output video saved as: output_video.mp4\n"
          ]
        }
      ]
    }
  ]
}